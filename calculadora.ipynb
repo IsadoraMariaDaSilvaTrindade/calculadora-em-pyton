{
  "nbformat": 4,
  "nbformat_minor": 0,
  "metadata": {
    "colab": {
      "provenance": [],
      "authorship_tag": "ABX9TyNBqBloVbK4oyS9fu98VIio",
      "include_colab_link": true
    },
    "kernelspec": {
      "name": "python3",
      "display_name": "Python 3"
    },
    "language_info": {
      "name": "python"
    }
  },
  "cells": [
    {
      "cell_type": "markdown",
      "metadata": {
        "id": "view-in-github",
        "colab_type": "text"
      },
      "source": [
        "<a href=\"https://colab.research.google.com/github/IsadoraMariaDaSilvaTrindade/calculadora-em-pyton/blob/main/calculadora.ipynb\" target=\"_parent\"><img src=\"https://colab.research.google.com/assets/colab-badge.svg\" alt=\"Open In Colab\"/></a>"
      ]
    },
    {
      "cell_type": "code",
      "execution_count": null,
      "metadata": {
        "id": "b-oI4-FGuvNk",
        "colab": {
          "base_uri": "https://localhost:8080/"
        },
        "outputId": "130f57a7-673b-4fad-d66c-f86f4d9ae549"
      },
      "outputs": [
        {
          "output_type": "stream",
          "name": "stdout",
          "text": [
            "Selecione a operação desejada:\n",
            "1 adição\n",
            "2 subtração\n",
            "3 multiplicação\n",
            "4 divisão\n",
            "Digite o numero da operação de desejada(1/2/3/4):1\n",
            "digite o primeiro número:2\n",
            "dgite o segundo número: 4\n",
            "Resultado 6.0\n"
          ]
        }
      ],
      "source": [
        "print(\"Selecione a operação desejada:\")\n",
        "print(\"1 adição\")\n",
        "print(\"2 subtração\")\n",
        "print(\"3 multiplicação\")\n",
        "print(\"4 divisão\")\n",
        "\n",
        "opcao = input(\"Digite o numero da operação de desejada(1/2/3/4):\")\n",
        "\n",
        "numero1 = float(input(\"digite o primeiro número:\"))\n",
        "numero2 = float(input(\"dgite o segundo número: \"))\n",
        "\n",
        "if opcao == '1':\n",
        "  resultado = numero1 + numero2\n",
        "  print(\"Resultado\", resultado)\n",
        "elif opcao == '2':\n",
        "  resultado = numero1 - numero2\n",
        "  print(\"Resultado\", resultado)\n",
        "elif opcao == '3':\n",
        "  resultado = numero1*numero2\n",
        "  print(\"Resultado\", resultado)\n",
        "elif opcao == '4':\n",
        "  if numero2 !=0:\n",
        "    resultado = numero1/numero2\n",
        "    print(\"Resultado\", resultado)\n",
        "  else:\n",
        "      print(\"Erro: divisão por zero!\")\n",
        "else:\n",
        "      print(\"Opção invalida. Por favor, escolher uma opção valida.\")"
      ]
    }
  ]
}